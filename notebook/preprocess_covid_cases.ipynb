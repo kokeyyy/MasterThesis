{
 "cells": [
  {
   "cell_type": "code",
   "execution_count": 5,
   "id": "59760d76-8d5c-4119-a4c9-1bbedbd5fb3c",
   "metadata": {},
   "outputs": [],
   "source": [
    "import pandas as pd\n",
    "import datetime"
   ]
  },
  {
   "cell_type": "code",
   "execution_count": 6,
   "id": "4b2eda5f-c6d8-4a5e-b376-c625481063e8",
   "metadata": {},
   "outputs": [
    {
     "name": "stderr",
     "output_type": "stream",
     "text": [
      "/var/folders/jl/rwg2lghn7dx6j3k1gh9qpmrw0000gn/T/ipykernel_14400/4096187793.py:3: SettingWithCopyWarning: \n",
      "A value is trying to be set on a copy of a slice from a DataFrame.\n",
      "Try using .loc[row_indexer,col_indexer] = value instead\n",
      "\n",
      "See the caveats in the documentation: https://pandas.pydata.org/pandas-docs/stable/user_guide/indexing.html#returning-a-view-versus-a-copy\n",
      "  cases_tokyo[\"Date\"] = pd.to_datetime(cases_tokyo[\"Date\"], format='%Y-%m-%d')\n"
     ]
    },
    {
     "data": {
      "text/html": [
       "<div>\n",
       "<style scoped>\n",
       "    .dataframe tbody tr th:only-of-type {\n",
       "        vertical-align: middle;\n",
       "    }\n",
       "\n",
       "    .dataframe tbody tr th {\n",
       "        vertical-align: top;\n",
       "    }\n",
       "\n",
       "    .dataframe thead th {\n",
       "        text-align: right;\n",
       "    }\n",
       "</style>\n",
       "<table border=\"1\" class=\"dataframe\">\n",
       "  <thead>\n",
       "    <tr style=\"text-align: right;\">\n",
       "      <th></th>\n",
       "      <th>Date</th>\n",
       "      <th>Tokyo</th>\n",
       "    </tr>\n",
       "  </thead>\n",
       "  <tbody>\n",
       "    <tr>\n",
       "      <th>0</th>\n",
       "      <td>2020-01-16</td>\n",
       "      <td>0</td>\n",
       "    </tr>\n",
       "    <tr>\n",
       "      <th>1</th>\n",
       "      <td>2020-01-17</td>\n",
       "      <td>0</td>\n",
       "    </tr>\n",
       "    <tr>\n",
       "      <th>2</th>\n",
       "      <td>2020-01-18</td>\n",
       "      <td>0</td>\n",
       "    </tr>\n",
       "    <tr>\n",
       "      <th>3</th>\n",
       "      <td>2020-01-19</td>\n",
       "      <td>0</td>\n",
       "    </tr>\n",
       "    <tr>\n",
       "      <th>4</th>\n",
       "      <td>2020-01-20</td>\n",
       "      <td>0</td>\n",
       "    </tr>\n",
       "    <tr>\n",
       "      <th>...</th>\n",
       "      <td>...</td>\n",
       "      <td>...</td>\n",
       "    </tr>\n",
       "    <tr>\n",
       "      <th>1204</th>\n",
       "      <td>2023-05-04</td>\n",
       "      <td>994</td>\n",
       "    </tr>\n",
       "    <tr>\n",
       "      <th>1205</th>\n",
       "      <td>2023-05-05</td>\n",
       "      <td>906</td>\n",
       "    </tr>\n",
       "    <tr>\n",
       "      <th>1206</th>\n",
       "      <td>2023-05-06</td>\n",
       "      <td>1062</td>\n",
       "    </tr>\n",
       "    <tr>\n",
       "      <th>1207</th>\n",
       "      <td>2023-05-07</td>\n",
       "      <td>2345</td>\n",
       "    </tr>\n",
       "    <tr>\n",
       "      <th>1208</th>\n",
       "      <td>2023-05-08</td>\n",
       "      <td>1331</td>\n",
       "    </tr>\n",
       "  </tbody>\n",
       "</table>\n",
       "<p>1209 rows × 2 columns</p>\n",
       "</div>"
      ],
      "text/plain": [
       "           Date  Tokyo\n",
       "0    2020-01-16      0\n",
       "1    2020-01-17      0\n",
       "2    2020-01-18      0\n",
       "3    2020-01-19      0\n",
       "4    2020-01-20      0\n",
       "...         ...    ...\n",
       "1204 2023-05-04    994\n",
       "1205 2023-05-05    906\n",
       "1206 2023-05-06   1062\n",
       "1207 2023-05-07   2345\n",
       "1208 2023-05-08   1331\n",
       "\n",
       "[1209 rows x 2 columns]"
      ]
     },
     "execution_count": 6,
     "metadata": {},
     "output_type": "execute_result"
    }
   ],
   "source": [
    "cases_jp = pd.read_csv('/Users/koki/PycharmProjects/MasterThesis/data/raw/newly_confirmed_cases_daily.csv')\n",
    "cases_tokyo = cases_jp[[\"Date\", \"Tokyo\"]]\n",
    "cases_tokyo[\"Date\"] = pd.to_datetime(cases_tokyo[\"Date\"], format='%Y-%m-%d')\n",
    "cases_tokyo"
   ]
  },
  {
   "cell_type": "code",
   "execution_count": 7,
   "id": "073e0f42-63d5-4397-9677-0ed8e140d222",
   "metadata": {},
   "outputs": [
    {
     "data": {
      "text/plain": [
       "9672"
      ]
     },
     "execution_count": 7,
     "metadata": {},
     "output_type": "execute_result"
    }
   ],
   "source": [
    "# 1日のデータにつき8個分に増やす\n",
    "lst = []\n",
    "for i in range(cases_tokyo.shape[0]):\n",
    "    for _ in range(8):\n",
    "        lst.append(cases_tokyo.iloc[i,1])\n",
    "len(lst)"
   ]
  },
  {
   "cell_type": "code",
   "execution_count": 8,
   "id": "2c3d442e-ffc9-4b27-95c4-53db48a77ed7",
   "metadata": {},
   "outputs": [
    {
     "name": "stderr",
     "output_type": "stream",
     "text": [
      "/var/folders/jl/rwg2lghn7dx6j3k1gh9qpmrw0000gn/T/ipykernel_14400/139759549.py:5: DeprecationWarning: In a future version, `df.iloc[:, i] = newvals` will attempt to set the values inplace instead of always setting a new array. To retain the old behavior, use either `df[df.columns[i]] = newvals` or, if columns are non-unique, `df.isetitem(i, newvals)`\n",
      "  new_cases_tokyo.iloc[:,0] = date\n",
      "/var/folders/jl/rwg2lghn7dx6j3k1gh9qpmrw0000gn/T/ipykernel_14400/139759549.py:6: DeprecationWarning: In a future version, `df.iloc[:, i] = newvals` will attempt to set the values inplace instead of always setting a new array. To retain the old behavior, use either `df[df.columns[i]] = newvals` or, if columns are non-unique, `df.isetitem(i, newvals)`\n",
      "  new_cases_tokyo.iloc[:,1] = lst\n"
     ]
    },
    {
     "data": {
      "text/html": [
       "<div>\n",
       "<style scoped>\n",
       "    .dataframe tbody tr th:only-of-type {\n",
       "        vertical-align: middle;\n",
       "    }\n",
       "\n",
       "    .dataframe tbody tr th {\n",
       "        vertical-align: top;\n",
       "    }\n",
       "\n",
       "    .dataframe thead th {\n",
       "        text-align: right;\n",
       "    }\n",
       "</style>\n",
       "<table border=\"1\" class=\"dataframe\">\n",
       "  <thead>\n",
       "    <tr style=\"text-align: right;\">\n",
       "      <th></th>\n",
       "      <th>Date</th>\n",
       "      <th>Cases_Tokyo</th>\n",
       "    </tr>\n",
       "  </thead>\n",
       "  <tbody>\n",
       "    <tr>\n",
       "      <th>0</th>\n",
       "      <td>2020-01-16 00:00:00</td>\n",
       "      <td>0</td>\n",
       "    </tr>\n",
       "    <tr>\n",
       "      <th>1</th>\n",
       "      <td>2020-01-16 03:00:00</td>\n",
       "      <td>0</td>\n",
       "    </tr>\n",
       "    <tr>\n",
       "      <th>2</th>\n",
       "      <td>2020-01-16 06:00:00</td>\n",
       "      <td>0</td>\n",
       "    </tr>\n",
       "    <tr>\n",
       "      <th>3</th>\n",
       "      <td>2020-01-16 09:00:00</td>\n",
       "      <td>0</td>\n",
       "    </tr>\n",
       "    <tr>\n",
       "      <th>4</th>\n",
       "      <td>2020-01-16 12:00:00</td>\n",
       "      <td>0</td>\n",
       "    </tr>\n",
       "    <tr>\n",
       "      <th>...</th>\n",
       "      <td>...</td>\n",
       "      <td>...</td>\n",
       "    </tr>\n",
       "    <tr>\n",
       "      <th>9667</th>\n",
       "      <td>2023-05-08 09:00:00</td>\n",
       "      <td>1331</td>\n",
       "    </tr>\n",
       "    <tr>\n",
       "      <th>9668</th>\n",
       "      <td>2023-05-08 12:00:00</td>\n",
       "      <td>1331</td>\n",
       "    </tr>\n",
       "    <tr>\n",
       "      <th>9669</th>\n",
       "      <td>2023-05-08 15:00:00</td>\n",
       "      <td>1331</td>\n",
       "    </tr>\n",
       "    <tr>\n",
       "      <th>9670</th>\n",
       "      <td>2023-05-08 18:00:00</td>\n",
       "      <td>1331</td>\n",
       "    </tr>\n",
       "    <tr>\n",
       "      <th>9671</th>\n",
       "      <td>2023-05-08 21:00:00</td>\n",
       "      <td>1331</td>\n",
       "    </tr>\n",
       "  </tbody>\n",
       "</table>\n",
       "<p>9672 rows × 2 columns</p>\n",
       "</div>"
      ],
      "text/plain": [
       "                    Date  Cases_Tokyo\n",
       "0    2020-01-16 00:00:00            0\n",
       "1    2020-01-16 03:00:00            0\n",
       "2    2020-01-16 06:00:00            0\n",
       "3    2020-01-16 09:00:00            0\n",
       "4    2020-01-16 12:00:00            0\n",
       "...                  ...          ...\n",
       "9667 2023-05-08 09:00:00         1331\n",
       "9668 2023-05-08 12:00:00         1331\n",
       "9669 2023-05-08 15:00:00         1331\n",
       "9670 2023-05-08 18:00:00         1331\n",
       "9671 2023-05-08 21:00:00         1331\n",
       "\n",
       "[9672 rows x 2 columns]"
      ]
     },
     "execution_count": 8,
     "metadata": {},
     "output_type": "execute_result"
    }
   ],
   "source": [
    "# 3時間ごとの日付を取得\n",
    "date = pd.date_range(start=cases_tokyo.iloc[0,0], end=cases_tokyo.iloc[-1,0]+datetime.timedelta(days=1), freq='3h')[:-1]\n",
    "\n",
    "# concat date and cases\n",
    "new_cases_tokyo = pd.DataFrame(columns=['Date', 'Cases_Tokyo'])\n",
    "new_cases_tokyo.iloc[:,0] = date\n",
    "new_cases_tokyo.iloc[:,1] = lst\n",
    "\n",
    "new_cases_tokyo"
   ]
  },
  {
   "cell_type": "code",
   "execution_count": 9,
   "id": "921f20d0-9a1e-4c1f-a49b-7f5b0971b651",
   "metadata": {},
   "outputs": [],
   "source": [
    "new_cases_tokyo.to_csv('/Users/koki/PycharmProjects/MasterThesis/data/preprocessed/covid_cases_tokyo_preprocessed.csv', index=False, encoding='utf-8')\n",
    "\n"
   ]
  },
  {
   "cell_type": "code",
   "execution_count": null,
   "id": "37fdd349-8477-4b9f-83f9-93e3404bdb71",
   "metadata": {},
   "outputs": [],
   "source": []
  }
 ],
 "metadata": {
  "kernelspec": {
   "display_name": "Python 3 (ipykernel)",
   "language": "python",
   "name": "python3"
  },
  "language_info": {
   "codemirror_mode": {
    "name": "ipython",
    "version": 3
   },
   "file_extension": ".py",
   "mimetype": "text/x-python",
   "name": "python",
   "nbconvert_exporter": "python",
   "pygments_lexer": "ipython3",
   "version": "3.10.10"
  }
 },
 "nbformat": 4,
 "nbformat_minor": 5
}
